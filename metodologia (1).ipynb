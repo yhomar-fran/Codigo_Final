{
 "cells": [
  {
   "cell_type": "code",
   "execution_count": 1,
   "id": "f1f75e60-09e9-4533-9b88-853dc8bb6faa",
   "metadata": {},
   "outputs": [],
   "source": [
    "import pandas as pd\n",
    "import numpy as np\n",
    "import statsmodels.api as sm\n",
    "import seaborn as sns\n",
    "import matplotlib.pyplot as plt\n"
   ]
  },
  {
   "cell_type": "code",
   "execution_count": 2,
   "id": "e09969f3-cc3b-4d85-831a-4427efeab6ec",
   "metadata": {},
   "outputs": [],
   "source": [
    "# Leer archivos Excel (.xlsx) con la hoja correcta\n",
    "df_victimizacion = pd.read_excel(\"https://github.com/yhomar-fran/metodologia/raw/refs/heads/main/victimizacion.xlsx\")\n",
    "df_percepcion = pd.read_excel(\"https://github.com/yhomar-fran/metodologia/raw/refs/heads/main/percepcion%20de%20inseguridad.xlsx\")\n",
    "df_viviendas_afectadas = pd.read_excel(\"https://github.com/yhomar-fran/metodologia/raw/refs/heads/main/viviendas%20afectadas%20por%20intento%20de%20robo.xlsx\")\n",
    "df_efectivos = pd.read_excel(\"https://github.com/yhomar-fran/metodologia/raw/refs/heads/main/numero%20de%20policias.xlsx\")\n",
    "df_confianza = pd.read_excel(\"https://github.com/yhomar-fran/metodologia/raw/refs/heads/main/confianza%20en%20la%20policia%20nacional.xlsx\")"
   ]
  },
  {
   "cell_type": "code",
   "execution_count": 3,
   "id": "d9bf9d13-a517-4efc-aa6b-721a8fb2e51d",
   "metadata": {},
   "outputs": [
    {
     "data": {
      "text/html": [
       "<div>\n",
       "<style scoped>\n",
       "    .dataframe tbody tr th:only-of-type {\n",
       "        vertical-align: middle;\n",
       "    }\n",
       "\n",
       "    .dataframe tbody tr th {\n",
       "        vertical-align: top;\n",
       "    }\n",
       "\n",
       "    .dataframe thead th {\n",
       "        text-align: right;\n",
       "    }\n",
       "</style>\n",
       "<table border=\"1\" class=\"dataframe\">\n",
       "  <thead>\n",
       "    <tr style=\"text-align: right;\">\n",
       "      <th></th>\n",
       "      <th>departamento</th>\n",
       "      <th>2019</th>\n",
       "      <th>2020</th>\n",
       "      <th>2021</th>\n",
       "      <th>2022</th>\n",
       "      <th>2023</th>\n",
       "    </tr>\n",
       "  </thead>\n",
       "  <tbody>\n",
       "    <tr>\n",
       "      <th>0</th>\n",
       "      <td>Amazonas</td>\n",
       "      <td>17.5</td>\n",
       "      <td>14.5</td>\n",
       "      <td>10.6</td>\n",
       "      <td>13.6</td>\n",
       "      <td>15.2</td>\n",
       "    </tr>\n",
       "    <tr>\n",
       "      <th>1</th>\n",
       "      <td>Áncash</td>\n",
       "      <td>21.8</td>\n",
       "      <td>15.9</td>\n",
       "      <td>10.8</td>\n",
       "      <td>17.4</td>\n",
       "      <td>17.2</td>\n",
       "    </tr>\n",
       "    <tr>\n",
       "      <th>2</th>\n",
       "      <td>Apurímac</td>\n",
       "      <td>26.7</td>\n",
       "      <td>24.7</td>\n",
       "      <td>15.6</td>\n",
       "      <td>23.8</td>\n",
       "      <td>20.3</td>\n",
       "    </tr>\n",
       "    <tr>\n",
       "      <th>3</th>\n",
       "      <td>Arequipa</td>\n",
       "      <td>26.8</td>\n",
       "      <td>18.5</td>\n",
       "      <td>15.0</td>\n",
       "      <td>25.1</td>\n",
       "      <td>30.4</td>\n",
       "    </tr>\n",
       "    <tr>\n",
       "      <th>4</th>\n",
       "      <td>Ayacucho</td>\n",
       "      <td>24.6</td>\n",
       "      <td>23.3</td>\n",
       "      <td>17.1</td>\n",
       "      <td>20.2</td>\n",
       "      <td>25.1</td>\n",
       "    </tr>\n",
       "  </tbody>\n",
       "</table>\n",
       "</div>"
      ],
      "text/plain": [
       "  departamento  2019  2020  2021  2022  2023\n",
       "0     Amazonas  17.5  14.5  10.6  13.6  15.2\n",
       "1       Áncash  21.8  15.9  10.8  17.4  17.2\n",
       "2     Apurímac  26.7  24.7  15.6  23.8  20.3\n",
       "3     Arequipa  26.8  18.5  15.0  25.1  30.4\n",
       "4     Ayacucho  24.6  23.3  17.1  20.2  25.1"
      ]
     },
     "execution_count": 3,
     "metadata": {},
     "output_type": "execute_result"
    }
   ],
   "source": [
    "df_victimizacion.head()\n"
   ]
  },
  {
   "cell_type": "code",
   "execution_count": 4,
   "id": "7c426b52-ff81-4425-918f-cea41cc45705",
   "metadata": {
    "scrolled": true
   },
   "outputs": [
    {
     "data": {
      "text/html": [
       "<div>\n",
       "<style scoped>\n",
       "    .dataframe tbody tr th:only-of-type {\n",
       "        vertical-align: middle;\n",
       "    }\n",
       "\n",
       "    .dataframe tbody tr th {\n",
       "        vertical-align: top;\n",
       "    }\n",
       "\n",
       "    .dataframe thead th {\n",
       "        text-align: right;\n",
       "    }\n",
       "</style>\n",
       "<table border=\"1\" class=\"dataframe\">\n",
       "  <thead>\n",
       "    <tr style=\"text-align: right;\">\n",
       "      <th></th>\n",
       "      <th>departamento</th>\n",
       "      <th>2019</th>\n",
       "      <th>2020</th>\n",
       "      <th>2021</th>\n",
       "      <th>2022</th>\n",
       "      <th>2023</th>\n",
       "    </tr>\n",
       "  </thead>\n",
       "  <tbody>\n",
       "    <tr>\n",
       "      <th>0</th>\n",
       "      <td>Amazonas</td>\n",
       "      <td>28.2</td>\n",
       "      <td>34.3</td>\n",
       "      <td>28.5</td>\n",
       "      <td>29.9</td>\n",
       "      <td>27.1</td>\n",
       "    </tr>\n",
       "    <tr>\n",
       "      <th>1</th>\n",
       "      <td>Áncash</td>\n",
       "      <td>16.3</td>\n",
       "      <td>27.3</td>\n",
       "      <td>25.2</td>\n",
       "      <td>19.0</td>\n",
       "      <td>20.4</td>\n",
       "    </tr>\n",
       "    <tr>\n",
       "      <th>2</th>\n",
       "      <td>Apurímac</td>\n",
       "      <td>11.5</td>\n",
       "      <td>19.1</td>\n",
       "      <td>15.2</td>\n",
       "      <td>16.5</td>\n",
       "      <td>11.7</td>\n",
       "    </tr>\n",
       "    <tr>\n",
       "      <th>3</th>\n",
       "      <td>Arequipa</td>\n",
       "      <td>17.9</td>\n",
       "      <td>26.7</td>\n",
       "      <td>22.1</td>\n",
       "      <td>19.0</td>\n",
       "      <td>19.8</td>\n",
       "    </tr>\n",
       "    <tr>\n",
       "      <th>4</th>\n",
       "      <td>Ayacucho</td>\n",
       "      <td>10.3</td>\n",
       "      <td>14.9</td>\n",
       "      <td>14.7</td>\n",
       "      <td>12.4</td>\n",
       "      <td>11.1</td>\n",
       "    </tr>\n",
       "  </tbody>\n",
       "</table>\n",
       "</div>"
      ],
      "text/plain": [
       "  departamento  2019  2020  2021  2022  2023\n",
       "0     Amazonas  28.2  34.3  28.5  29.9  27.1\n",
       "1       Áncash  16.3  27.3  25.2  19.0  20.4\n",
       "2     Apurímac  11.5  19.1  15.2  16.5  11.7\n",
       "3     Arequipa  17.9  26.7  22.1  19.0  19.8\n",
       "4     Ayacucho  10.3  14.9  14.7  12.4  11.1"
      ]
     },
     "execution_count": 4,
     "metadata": {},
     "output_type": "execute_result"
    }
   ],
   "source": [
    "df_percepcion.head()\n",
    "df_viviendas_afectadas.head()\n",
    "df_efectivos.head()\n",
    "df_confianza.head()"
   ]
  },
  {
   "cell_type": "code",
   "execution_count": 5,
   "id": "e7ca1499-9b86-4eb1-9c05-7a19340ee5d7",
   "metadata": {},
   "outputs": [
    {
     "data": {
      "text/plain": [
       "Index(['departamento', 2019, 2020, 2021, 2022, 2023], dtype='object')"
      ]
     },
     "execution_count": 5,
     "metadata": {},
     "output_type": "execute_result"
    }
   ],
   "source": [
    "df_victimizacion.columns\n",
    "df_percepcion.columns\n",
    "df_viviendas_afectadas.columns\n",
    "df_efectivos.columns\n",
    "df_confianza.columns"
   ]
  },
  {
   "cell_type": "code",
   "execution_count": 7,
   "id": "b7e574aa-1e12-44ad-b7b9-0bd1c917d690",
   "metadata": {},
   "outputs": [],
   "source": [
    "# Renombrar columnas con etiquetas únicas para evitar duplicación\n",
    "df_victimizacion.rename(columns={\n",
    "    '2019': 'victimizacion_2019',\n",
    "    '2020': 'victimizacion_2020',\n",
    "    '2021': 'victimizacion_2021',\n",
    "    '2022': 'victimizacion_2022',\n",
    "    '2023': 'victimizacion_2023'\n",
    "}, inplace=True)\n",
    "\n",
    "df_percepcion.rename(columns={\n",
    "    '2019': 'percepcion_2019',\n",
    "    '2020': 'percepcion_2020',\n",
    "    '2021': 'percepcion_2021',\n",
    "    '2022': 'percepcion_2022',\n",
    "    '2023': 'percepcion_2023'\n",
    "}, inplace=True)\n",
    "\n",
    "df_viviendas_afectadas.rename(columns={\n",
    "    '2019': 'robo_2019',\n",
    "    '2020': 'robo_2020',\n",
    "    '2021': 'robo_2021',\n",
    "    '2022': 'robo_2022',\n",
    "    '2023': 'robo_2023'\n",
    "}, inplace=True)\n",
    "\n",
    "df_efectivos.rename(columns={\n",
    "    '2019': 'efectivos_2019',\n",
    "    '2020': 'efectivos_2020',\n",
    "    '2021': 'efectivos_2021',\n",
    "    '2022': 'efectivos_2022',\n",
    "    '2023': 'efectivos_2023'\n",
    "}, inplace=True)\n",
    "\n",
    "df_confianza.rename(columns={\n",
    "    '2019': 'confianza_2019',\n",
    "    '2020': 'confianza_2020',\n",
    "    '2021': 'confianza_2021',\n",
    "    '2022': 'confianza_2022',\n",
    "    '2023': 'confianza_2023'\n",
    "}, inplace=True)\n"
   ]
  },
  {
   "cell_type": "code",
   "execution_count": 10,
   "id": "c2c1bf25-b05e-475c-9ce5-58a1988525e3",
   "metadata": {},
   "outputs": [],
   "source": [
    "# Convertir a formato largo\n",
    "df_victimizacion_long = pd.melt(\n",
    "    df_victimizacion,\n",
    "    id_vars='departamento',\n",
    "    var_name='anio',\n",
    "    value_name='victimizacion')"
   ]
  },
  {
   "cell_type": "code",
   "execution_count": 11,
   "id": "bf300ee9-6805-4d2f-bbc3-e07ebd9d931d",
   "metadata": {},
   "outputs": [],
   "source": [
    "df_victimizacion_long = pd.melt(df_victimizacion, id_vars='departamento', var_name='anio', value_name='victimizacion')\n",
    "df_percepcion_long = pd.melt(df_percepcion, id_vars='departamento', var_name='anio', value_name='percepcion')\n",
    "df_viviendas_afectadas_long = pd.melt(df_viviendas_afectadas, id_vars='departamento', var_name='anio', value_name='robo')\n",
    "df_efectivos_long = pd.melt(df_efectivos, id_vars='departamento', var_name='anio', value_name='efectivos')\n",
    "df_confianza_long = pd.melt(df_confianza, id_vars='departamento', var_name='anio', value_name='confianza')\n"
   ]
  },
  {
   "cell_type": "code",
   "execution_count": 12,
   "id": "b9a9c7ee-df90-4ff7-bd71-b9ca11cafe13",
   "metadata": {},
   "outputs": [],
   "source": [
    "# Merge\n",
    "df = df_victimizacion_long.merge(df_percepcion_long, on=['departamento', 'anio']) \\\n",
    "                          .merge(df_viviendas_afectadas_long, on=['departamento', 'anio']) \\\n",
    "                          .merge(df_efectivos_long, on=['departamento', 'anio']) \\\n",
    "                          .merge(df_confianza_long, on=['departamento', 'anio'])\n"
   ]
  },
  {
   "cell_type": "code",
   "execution_count": 13,
   "id": "28b1bc75-6634-4383-b3f5-da212069c903",
   "metadata": {},
   "outputs": [
    {
     "name": "stdout",
     "output_type": "stream",
     "text": [
      "  departamento  anio  victimizacion  percepcion  robo  efectivos  confianza\n",
      "0     Amazonas  2019           17.5        83.5  14.5       1.42       28.2\n",
      "1       Áncash  2019           21.8        63.2   9.5       4.52       16.3\n",
      "2     Apurímac  2019           26.7        81.4   9.1       2.09       11.5\n",
      "3     Arequipa  2019           26.8        92.2  10.3       6.54       17.9\n",
      "4     Ayacucho  2019           24.6        73.7  12.0       1.26       10.3\n"
     ]
    }
   ],
   "source": [
    "print(df.head())\n"
   ]
  },
  {
   "cell_type": "code",
   "execution_count": 14,
   "id": "947b0a2f-4da7-4222-b460-ad588a7821b1",
   "metadata": {},
   "outputs": [
    {
     "name": "stdout",
     "output_type": "stream",
     "text": [
      "                departamento  anio  victimizacion  percepcion  robo  efectivos  confianza\n",
      "0                   Amazonas  2019           17.5        83.5  14.5       1.42       28.2\n",
      "1                     Áncash  2019           21.8        63.2   9.5       4.52       16.3\n",
      "2                   Apurímac  2019           26.7        81.4   9.1       2.09       11.5\n",
      "3                   Arequipa  2019           26.8        92.2  10.3       6.54       17.9\n",
      "4                   Ayacucho  2019           24.6        73.7  12.0       1.26       10.3\n",
      "5                  Cajamarca  2019           14.4        84.9   9.1       3.74       27.7\n",
      "6    Prov. Const. del Callao  2019           28.9        88.7   7.3       4.36       16.8\n",
      "7                      Cusco  2019           33.9        90.0   9.9       5.16       21.2\n",
      "8               Huancavelica  2019           26.6        91.7   9.9       1.28       17.7\n",
      "9                    Huánuco  2019           16.7        78.7   6.7       2.20       21.1\n",
      "10                       Ica  2019           17.4        82.5   9.7       3.02       11.4\n",
      "11                     Junín  2019           34.9        89.1  12.4       4.71       17.0\n",
      "12               La Libertad  2019           24.1        84.0   9.4       5.07       25.6\n",
      "13                Lambayeque  2019           15.9        82.5   8.7       4.56       19.2\n",
      "14     Lima Metropolitana 1/  2019           30.9        90.0   7.6      23.25       19.4\n",
      "15                   Lima 2/  2019           23.4        86.2   9.2       3.39        8.2\n",
      "16                    Loreto  2019           22.7        79.9  20.4       2.76       15.6\n",
      "17             Madre de Dios  2019           35.4        92.8  15.8       0.60       13.1\n",
      "18                  Moquegua  2019           15.8        73.3   8.0       1.13       26.1\n",
      "19                     Pasco  2019           22.1        77.8   7.2       0.79       20.4\n",
      "20                     Piura  2019           16.4        77.6   9.4       5.99        5.8\n",
      "21                      Puno  2019           40.6        87.3  13.6       4.51       18.4\n",
      "22                San Martín  2019           12.6        75.3  10.1       3.02       22.2\n",
      "23                     Tacna  2019           34.8        88.8   9.8       1.90       15.7\n",
      "24                    Tumbes  2019           19.6        61.6   9.6       1.38       31.8\n",
      "25                   Ucayali  2019           16.6        91.8  15.2       1.34       23.3\n",
      "26                  Amazonas  2020           14.5        77.6  14.4       1.91       34.3\n",
      "27                    Áncash  2020           15.9        52.5   7.1       4.42       27.3\n",
      "28                  Apurímac  2020           24.7        73.7  12.2       2.11       19.1\n",
      "29                  Arequipa  2020           18.5        89.6   9.2       6.47       26.7\n",
      "30                  Ayacucho  2020           23.3        73.6  11.0       1.73       14.9\n",
      "31                 Cajamarca  2020           13.0        81.8   9.0       3.68       38.4\n",
      "32   Prov. Const. del Callao  2020           26.6        88.8   7.8       3.94       27.8\n",
      "33                     Cusco  2020           32.4        88.5  10.2       5.82       27.0\n",
      "34              Huancavelica  2020           22.6        85.7   8.0       2.05       22.1\n",
      "35                   Huánuco  2020           13.6        72.4   8.8       2.34       33.5\n",
      "36                       Ica  2020           15.0        78.8  12.6       3.00       23.3\n",
      "37                     Junín  2020           34.0        87.6  15.3       5.09       24.7\n",
      "38               La Libertad  2020           22.8        84.1   7.7       4.78       38.8\n",
      "39                Lambayeque  2020           16.7        82.9  10.9       4.08       30.4\n",
      "40     Lima Metropolitana 1/  2020           27.9        88.9   9.4      22.51       25.2\n",
      "41                   Lima 2/  2020           19.5        82.3  10.9       3.17       15.3\n",
      "42                    Loreto  2020           18.1        75.9  19.5       2.23       24.0\n",
      "43             Madre de Dios  2020           23.0        87.9  20.2       0.52       23.0\n",
      "44                  Moquegua  2020           16.4        69.1  10.5       0.97       33.1\n",
      "45                     Pasco  2020           16.6        75.3   7.9       1.32       33.1\n",
      "46                     Piura  2020           14.6        75.1   9.8       5.92        8.5\n",
      "47                      Puno  2020           32.6        81.0  11.0       4.10       29.3\n",
      "48                San Martín  2020            9.9        66.2  11.5       3.75       27.7\n",
      "49                     Tacna  2020           29.1        78.9   8.6       1.62       23.3\n",
      "50                    Tumbes  2020           12.4        57.1  12.1       1.25       39.7\n",
      "51                   Ucayali  2020           16.0        88.4  24.7       1.22       25.6\n",
      "52                  Amazonas  2021           10.6        79.9  12.7       1.87       28.5\n",
      "53                    Áncash  2021           10.8        51.1   8.8       4.27       25.2\n",
      "54                  Apurímac  2021           15.6        73.2   9.1       2.19       15.2\n",
      "55                  Arequipa  2021           15.0        89.7   9.9       6.98       22.1\n",
      "56                  Ayacucho  2021           17.1        71.1   7.8       1.66       14.7\n",
      "57                 Cajamarca  2021            8.6        83.5   8.1       4.04       33.0\n",
      "58   Prov. Const. del Callao  2021           19.9        89.6   7.9       3.73       18.7\n",
      "59                     Cusco  2021           24.5        91.3   9.3       5.79       24.5\n",
      "60              Huancavelica  2021           16.6        88.7   5.9       1.97       16.8\n",
      "61                   Huánuco  2021           13.0        75.6   7.7       2.32       23.7\n",
      "62                       Ica  2021           14.2        80.7   9.0       3.30       17.1\n",
      "63                     Junín  2021           22.5        90.9  10.0       5.49       25.4\n",
      "64               La Libertad  2021           20.0        84.8  10.1       4.88       27.7\n",
      "65                Lambayeque  2021           11.7        71.9   8.7       4.38       29.0\n",
      "66     Lima Metropolitana 1/  2021           21.9        91.7   7.2      21.80       24.5\n",
      "67                   Lima 2/  2021           13.9        87.2   9.9       3.04       10.6\n",
      "68                    Loreto  2021           16.9        71.3  18.7       2.19       19.4\n",
      "69             Madre de Dios  2021           24.4        91.0  17.9       0.47       18.8\n",
      "70                  Moquegua  2021           12.0        70.7   5.9       1.04       26.7\n",
      "71                     Pasco  2021           12.7        74.1   6.9       1.26       26.2\n",
      "72                     Piura  2021           10.3        69.2   8.7       5.82        7.9\n",
      "73                      Puno  2021           23.3        83.3   9.1       3.83       28.0\n",
      "74                San Martín  2021            8.4        54.1   9.5       3.62       23.1\n",
      "75                     Tacna  2021           17.7        86.2   5.0       1.61       13.6\n",
      "76                    Tumbes  2021           10.2        53.5   8.6       1.23       29.8\n",
      "77                   Ucayali  2021           13.1        91.9  20.7       1.21       22.7\n",
      "78                  Amazonas  2022           13.6        81.4  15.1       2.10       29.9\n",
      "79                    Áncash  2022           17.4        46.7  10.0       4.76       19.0\n",
      "80                  Apurímac  2022           23.8        76.3   9.7       2.33       16.5\n",
      "81                  Arequipa  2022           25.1        90.1   8.0       6.47       19.0\n",
      "82                  Ayacucho  2022           20.2        74.3   9.5       1.67       12.4\n",
      "83                 Cajamarca  2022           11.5        82.2   9.0       4.11       21.0\n",
      "84   Prov. Const. del Callao  2022           22.2        90.3   9.1       3.26       13.4\n",
      "85                     Cusco  2022           28.6        94.2   6.9       6.08       20.1\n",
      "86              Huancavelica  2022           20.3        80.3   6.3       1.89       17.8\n",
      "87                   Huánuco  2022           12.2        71.4   8.1       2.35       21.0\n",
      "88                       Ica  2022           15.7        85.6  10.4       3.14       17.9\n",
      "89                     Junín  2022           26.6        84.1  10.1       5.15       20.8\n",
      "90               La Libertad  2022           21.6        89.0  10.8       5.06       22.8\n",
      "91                Lambayeque  2022           13.6        78.8   8.3       4.43       24.5\n",
      "92     Lima Metropolitana 1/  2022           26.7        90.8   8.4      21.94       21.9\n",
      "93                   Lima 2/  2022           20.8        94.3  14.5       2.95        9.7\n",
      "94                    Loreto  2022           23.8        82.1  23.3       2.14       18.1\n",
      "95             Madre de Dios  2022           25.7        92.4  19.4       0.49       20.1\n",
      "96                  Moquegua  2022           15.5        72.9   3.9       1.23       26.6\n",
      "97                     Pasco  2022           18.4        72.2   7.2       1.18       24.3\n",
      "98                     Piura  2022           18.1        78.5  12.0       5.81        7.1\n",
      "99                      Puno  2022           29.7        85.2  10.3       3.70       24.7\n",
      "100               San Martín  2022           14.5        57.3   9.2       3.69       23.5\n",
      "101                    Tacna  2022           27.4        90.9  12.8       1.65       17.5\n",
      "102                   Tumbes  2022           12.6        58.2  10.7       1.11       30.0\n",
      "103                  Ucayali  2022           20.1        92.6  24.6       1.31       17.0\n",
      "104                 Amazonas  2023           15.2        77.9  16.5       1.83       27.1\n",
      "105                   Áncash  2023           17.2        43.8   9.7       4.54       20.4\n",
      "106                 Apurímac  2023           20.3        65.4  13.0       2.22       11.7\n",
      "107                 Arequipa  2023           30.4        86.7  13.9       6.98       19.8\n",
      "108                 Ayacucho  2023           25.1        70.8  11.6       2.02       11.1\n",
      "109                Cajamarca  2023           14.1        82.0  11.5       4.20       21.5\n",
      "110  Prov. Const. del Callao  2023           29.2        88.0  11.7       3.17       14.3\n",
      "111                    Cusco  2023           29.4        92.3   9.3       5.91       11.8\n",
      "112             Huancavelica  2023           23.6        69.2   9.1       1.89       16.4\n",
      "113                  Huánuco  2023           15.1        71.3  10.3       2.26       21.1\n",
      "114                      Ica  2023           19.5        87.4  10.9       3.21       19.0\n",
      "115                    Junín  2023           28.7        82.1  11.2       5.53       18.8\n",
      "116              La Libertad  2023           22.5        85.6  12.7       4.98       22.6\n",
      "117               Lambayeque  2023           16.7        91.7  11.7       4.72       23.5\n",
      "118    Lima Metropolitana 1/  2023           32.6        86.5  11.6      21.49       19.7\n",
      "119                  Lima 2/  2023           24.2        84.4  14.1       3.06        9.3\n",
      "120                   Loreto  2023           20.1        83.4  24.2       1.96       17.5\n",
      "121            Madre de Dios  2023           32.0        91.4  23.8       0.49       17.9\n",
      "122                 Moquegua  2023           17.1        67.9  10.1       0.91       22.4\n",
      "123                    Pasco  2023           19.0        72.0  11.5       1.09       28.7\n",
      "124                    Piura  2023           27.0        82.8  20.6       5.72        8.0\n",
      "125                     Puno  2023           33.1        88.1  11.5       3.89       22.6\n",
      "126               San Martín  2023           16.3        68.8  14.7       3.73       22.1\n",
      "127                    Tacna  2023           31.5        90.6  11.2       1.54       16.7\n",
      "128                   Tumbes  2023           17.4        57.2  12.6       1.18       34.6\n",
      "129                  Ucayali  2023           21.9        93.7  30.1       1.46       21.0\n"
     ]
    }
   ],
   "source": [
    "print(df.to_string())\n"
   ]
  },
  {
   "cell_type": "code",
   "execution_count": 15,
   "id": "e36d0f9c-0985-4271-a0dd-5578c3d97f63",
   "metadata": {},
   "outputs": [],
   "source": [
    "# Filtrar el año 2019\n",
    "df_2019 = df[df['anio'] == 2019]"
   ]
  },
  {
   "cell_type": "code",
   "execution_count": 16,
   "id": "66ef839a-5e60-46b1-82ea-7f991ce9fcc1",
   "metadata": {},
   "outputs": [
    {
     "name": "stdout",
     "output_type": "stream",
     "text": [
      "Index(['departamento', 'anio', 'victimizacion', 'percepcion', 'robo',\n",
      "       'efectivos', 'confianza'],\n",
      "      dtype='object')\n"
     ]
    }
   ],
   "source": [
    "# Verificar variables disponibles\n",
    "print(df_2019.columns)"
   ]
  },
  {
   "cell_type": "code",
   "execution_count": 18,
   "id": "7c3c71d0-7310-43a2-a598-119318559723",
   "metadata": {},
   "outputs": [
    {
     "name": "stdout",
     "output_type": "stream",
     "text": [
      "\n",
      "🔗 Correlación de variables con la confianza (2019):\n",
      "\n",
      "victimizacion   -0.272555\n",
      "percepcion      -0.175472\n",
      "robo            -0.066790\n",
      "efectivos       -0.048503\n",
      "confianza        1.000000\n",
      "Name: confianza, dtype: float64\n"
     ]
    }
   ],
   "source": [
    "variables = ['victimizacion', 'percepcion', 'robo', 'efectivos', 'confianza']\n",
    "correlaciones_2019 = df_2019[variables].corr(method='pearson')\n",
    "\n",
    "print(\"\\n🔗 Correlación de variables con la confianza (2019):\\n\")\n",
    "print(correlaciones_2019['confianza'])\n"
   ]
  },
  {
   "cell_type": "code",
   "execution_count": 19,
   "id": "add31548-c699-4cd5-95d2-9dd2ea537302",
   "metadata": {},
   "outputs": [
    {
     "name": "stdout",
     "output_type": "stream",
     "text": [
      "                            OLS Regression Results                            \n",
      "==============================================================================\n",
      "Dep. Variable:              confianza   R-squared:                       0.077\n",
      "Model:                            OLS   Adj. R-squared:                 -0.099\n",
      "Method:                 Least Squares   F-statistic:                    0.4358\n",
      "Date:                Fri, 20 Jun 2025   Prob (F-statistic):              0.781\n",
      "Time:                        23:58:29   Log-Likelihood:                -83.429\n",
      "No. Observations:                  26   AIC:                             176.9\n",
      "Df Residuals:                      21   BIC:                             183.1\n",
      "Df Model:                           4                                         \n",
      "Covariance Type:            nonrobust                                         \n",
      "=================================================================================\n",
      "                    coef    std err          t      P>|t|      [0.025      0.975]\n",
      "---------------------------------------------------------------------------------\n",
      "const            26.8340     13.792      1.946      0.065      -1.848      55.516\n",
      "victimizacion    -0.2062      0.205     -1.004      0.327      -0.634       0.221\n",
      "percepcion       -0.0406      0.189     -0.215      0.832      -0.434       0.352\n",
      "robo             -0.0114      0.460     -0.025      0.980      -0.968       0.945\n",
      "efectivos         0.0268      0.338      0.080      0.937      -0.675       0.729\n",
      "==============================================================================\n",
      "Omnibus:                        1.323   Durbin-Watson:                   2.145\n",
      "Prob(Omnibus):                  0.516   Jarque-Bera (JB):                0.808\n",
      "Skew:                          -0.431   Prob(JB):                        0.668\n",
      "Kurtosis:                       2.952   Cond. No.                         921.\n",
      "==============================================================================\n",
      "\n",
      "Notes:\n",
      "[1] Standard Errors assume that the covariance matrix of the errors is correctly specified.\n"
     ]
    }
   ],
   "source": [
    "\n",
    "# Variables predictoras (independientes)\n",
    "X = df_2019[['victimizacion', 'percepcion', 'robo', 'efectivos']]\n",
    "\n",
    "# Variable respuesta (dependiente)\n",
    "y = df_2019['confianza']\n",
    "\n",
    "# Agregamos constante (intercepto)\n",
    "X = sm.add_constant(X)\n",
    "\n",
    "# ajustamos el modelo\n",
    "modelo_2019 = sm.OLS(y, X).fit()\n",
    "\n",
    "# Mostramos el resumen\n",
    "print(modelo_2019.summary())\n"
   ]
  },
  {
   "cell_type": "code",
   "execution_count": 22,
   "id": "ca51bf8e-d226-4bcb-947c-199c607da67f",
   "metadata": {},
   "outputs": [],
   "source": [
    "#Filtrar el año 2020\n",
    "df_2020 = df[df['anio'] == 2020]"
   ]
  },
  {
   "cell_type": "code",
   "execution_count": 23,
   "id": "ae339aee-bddc-4cec-83a2-9a9031d4d2f0",
   "metadata": {},
   "outputs": [
    {
     "name": "stdout",
     "output_type": "stream",
     "text": [
      "\n",
      "🔗 Correlación de variables con la confianza (2020):\n",
      "\n",
      "victimizacion   -0.233592\n",
      "percepcion      -0.159351\n",
      "robo            -0.146679\n",
      "efectivos       -0.084600\n",
      "confianza        1.000000\n",
      "Name: confianza, dtype: float64\n"
     ]
    }
   ],
   "source": [
    "variables = ['victimizacion', 'percepcion', 'robo', 'efectivos', 'confianza']\n",
    "correlaciones_2020 = df_2020[variables].corr(method='pearson')\n",
    "\n",
    "print(\"\\n🔗 Correlación de variables con la confianza (2020):\\n\")\n",
    "print(correlaciones_2020['confianza'])"
   ]
  },
  {
   "cell_type": "code",
   "execution_count": 24,
   "id": "4adaa66e-fbea-42d1-8025-dab8caae9055",
   "metadata": {},
   "outputs": [],
   "source": [
    "df.to_csv(\"tabla_merge.csv\", index=False, encoding='utf-8-sig')\n"
   ]
  },
  {
   "cell_type": "code",
   "execution_count": null,
   "id": "d47fd5b3-a6b6-47e1-927e-bcb53212f31c",
   "metadata": {},
   "outputs": [],
   "source": []
  }
 ],
 "metadata": {
  "kernelspec": {
   "display_name": "Python 3 (ipykernel)",
   "language": "python",
   "name": "python3"
  },
  "language_info": {
   "codemirror_mode": {
    "name": "ipython",
    "version": 3
   },
   "file_extension": ".py",
   "mimetype": "text/x-python",
   "name": "python",
   "nbconvert_exporter": "python",
   "pygments_lexer": "ipython3",
   "version": "3.10.16"
  }
 },
 "nbformat": 4,
 "nbformat_minor": 5
}
